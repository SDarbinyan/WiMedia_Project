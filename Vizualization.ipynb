{
 "cells": [
  {
   "cell_type": "code",
   "execution_count": 1,
   "metadata": {},
   "outputs": [],
   "source": [
    "import numpy as np\n",
    "import pandas as pd\n",
    "import matplotlib.pyplot as plt\n",
    "import seaborn as sns"
   ]
  },
  {
   "cell_type": "code",
   "execution_count": 36,
   "metadata": {},
   "outputs": [],
   "source": [
    "#importing the data and making a dataframe\n",
    "data=pd.read_excel(\"sample_final.xlsx\")"
   ]
  },
  {
   "cell_type": "code",
   "execution_count": 37,
   "metadata": {},
   "outputs": [
    {
     "name": "stdout",
     "output_type": "stream",
     "text": [
      "<class 'pandas.core.frame.DataFrame'>\n",
      "RangeIndex: 299999 entries, 0 to 299998\n",
      "Data columns (total 11 columns):\n",
      "Random            299999 non-null float64\n",
      "ad_instance_id    299999 non-null int64\n",
      "segment_id_x      299999 non-null int64\n",
      "place_id          299999 non-null int64\n",
      "user_action_id    299999 non-null int64\n",
      "action_time       299999 non-null int64\n",
      "screen_height     299999 non-null int64\n",
      "screen_width      299999 non-null int64\n",
      "segment_id_y      299999 non-null int64\n",
      "User_ID           299999 non-null int64\n",
      "mac_address       299999 non-null int64\n",
      "dtypes: float64(1), int64(10)\n",
      "memory usage: 25.2 MB\n"
     ]
    }
   ],
   "source": [
    "data.info()"
   ]
  },
  {
   "cell_type": "code",
   "execution_count": 38,
   "metadata": {},
   "outputs": [],
   "source": [
    "data=data.drop(\"Random\", axis=1)"
   ]
  },
  {
   "cell_type": "code",
   "execution_count": 39,
   "metadata": {},
   "outputs": [],
   "source": [
    "data.user_action_id=np.where(data.user_action_id==1,1,0)"
   ]
  },
  {
   "cell_type": "code",
   "execution_count": 40,
   "metadata": {},
   "outputs": [
    {
     "data": {
      "text/html": [
       "<div>\n",
       "<style scoped>\n",
       "    .dataframe tbody tr th:only-of-type {\n",
       "        vertical-align: middle;\n",
       "    }\n",
       "\n",
       "    .dataframe tbody tr th {\n",
       "        vertical-align: top;\n",
       "    }\n",
       "\n",
       "    .dataframe thead th {\n",
       "        text-align: right;\n",
       "    }\n",
       "</style>\n",
       "<table border=\"1\" class=\"dataframe\">\n",
       "  <thead>\n",
       "    <tr style=\"text-align: right;\">\n",
       "      <th></th>\n",
       "      <th>ad_instance_id</th>\n",
       "      <th>segment_id_x</th>\n",
       "      <th>place_id</th>\n",
       "      <th>user_action_id</th>\n",
       "      <th>action_time</th>\n",
       "      <th>screen_height</th>\n",
       "      <th>screen_width</th>\n",
       "      <th>segment_id_y</th>\n",
       "      <th>User_ID</th>\n",
       "      <th>mac_address</th>\n",
       "    </tr>\n",
       "  </thead>\n",
       "  <tbody>\n",
       "    <tr>\n",
       "      <th>0</th>\n",
       "      <td>2021</td>\n",
       "      <td>6</td>\n",
       "      <td>9</td>\n",
       "      <td>0</td>\n",
       "      <td>0</td>\n",
       "      <td>667</td>\n",
       "      <td>375</td>\n",
       "      <td>11</td>\n",
       "      <td>223481</td>\n",
       "      <td>1</td>\n",
       "    </tr>\n",
       "    <tr>\n",
       "      <th>1</th>\n",
       "      <td>1108</td>\n",
       "      <td>6</td>\n",
       "      <td>47</td>\n",
       "      <td>0</td>\n",
       "      <td>1</td>\n",
       "      <td>667</td>\n",
       "      <td>375</td>\n",
       "      <td>4</td>\n",
       "      <td>795536</td>\n",
       "      <td>1</td>\n",
       "    </tr>\n",
       "    <tr>\n",
       "      <th>2</th>\n",
       "      <td>2747</td>\n",
       "      <td>6</td>\n",
       "      <td>27</td>\n",
       "      <td>0</td>\n",
       "      <td>0</td>\n",
       "      <td>640</td>\n",
       "      <td>360</td>\n",
       "      <td>5</td>\n",
       "      <td>938974</td>\n",
       "      <td>0</td>\n",
       "    </tr>\n",
       "    <tr>\n",
       "      <th>3</th>\n",
       "      <td>2237</td>\n",
       "      <td>6</td>\n",
       "      <td>77</td>\n",
       "      <td>0</td>\n",
       "      <td>0</td>\n",
       "      <td>640</td>\n",
       "      <td>360</td>\n",
       "      <td>11</td>\n",
       "      <td>111971</td>\n",
       "      <td>0</td>\n",
       "    </tr>\n",
       "    <tr>\n",
       "      <th>4</th>\n",
       "      <td>2306</td>\n",
       "      <td>14</td>\n",
       "      <td>46</td>\n",
       "      <td>0</td>\n",
       "      <td>0</td>\n",
       "      <td>640</td>\n",
       "      <td>360</td>\n",
       "      <td>4</td>\n",
       "      <td>421991</td>\n",
       "      <td>0</td>\n",
       "    </tr>\n",
       "  </tbody>\n",
       "</table>\n",
       "</div>"
      ],
      "text/plain": [
       "   ad_instance_id  segment_id_x  place_id  user_action_id  action_time  \\\n",
       "0            2021             6         9               0            0   \n",
       "1            1108             6        47               0            1   \n",
       "2            2747             6        27               0            0   \n",
       "3            2237             6        77               0            0   \n",
       "4            2306            14        46               0            0   \n",
       "\n",
       "   screen_height  screen_width  segment_id_y  User_ID  mac_address  \n",
       "0            667           375            11   223481            1  \n",
       "1            667           375             4   795536            1  \n",
       "2            640           360             5   938974            0  \n",
       "3            640           360            11   111971            0  \n",
       "4            640           360             4   421991            0  "
      ]
     },
     "execution_count": 40,
     "metadata": {},
     "output_type": "execute_result"
    }
   ],
   "source": [
    "data.head()"
   ]
  },
  {
   "cell_type": "code",
   "execution_count": 41,
   "metadata": {},
   "outputs": [],
   "source": [
    "data[\"segment_id_x\"]=data[\"segment_id_x\"].astype(object)"
   ]
  },
  {
   "cell_type": "code",
   "execution_count": 42,
   "metadata": {},
   "outputs": [],
   "source": [
    "click_rate_byID=data.groupby(\"segment_id_x\")[\"user_action_id\"].value_counts(normalize=True).rename(\"percentage\").mul(100).reset_index()"
   ]
  },
  {
   "cell_type": "code",
   "execution_count": 43,
   "metadata": {},
   "outputs": [
    {
     "data": {
      "image/png": "[encoded data removed]",
      "text/plain": [
       "<Figure size 648x360 with 1 Axes>"
      ]
     },
     "metadata": {
      "needs_background": "light"
     },
     "output_type": "display_data"
    }
   ],
   "source": [
    "plt.figure(figsize=(9,5))\n",
    "sns.barplot(x=\"segment_id_x\",y=\"percentage\", hue=\"user_action_id\",data=click_rate)\n",
    "plt.title(\"Click_rate_by_add_ID\")\n",
    "plt.show()"
   ]
  },
  {
   "cell_type": "code",
   "execution_count": 44,
   "metadata": {},
   "outputs": [],
   "source": [
    "data[\"action_time\"]=data[\"action_time\"].astype(object)"
   ]
  },
  {
   "cell_type": "code",
   "execution_count": 45,
   "metadata": {},
   "outputs": [],
   "source": [
    "click_rate_byT=data.groupby(\"action_time\")[\"user_action_id\"].value_counts(normalize=True).rename(\"percentage\").mul(100).reset_index()"
   ]
  },
  {
   "cell_type": "code",
   "execution_count": 46,
   "metadata": {},
   "outputs": [
    {
     "data": {
      "image/png": "[encoded data removed]",
      "text/plain": [
       "<Figure size 648x360 with 1 Axes>"
      ]
     },
     "metadata": {
      "needs_background": "light"
     },
     "output_type": "display_data"
    }
   ],
   "source": [
    "plt.figure(figsize=(9,5))\n",
    "sns.barplot(x=\"action_time\",y=\"percentage\", hue=\"user_action_id\",data=click_rate_byT)\n",
    "plt.title(\"Click_rate_by_action_time\")\n",
    "plt.show()"
   ]
  },
  {
   "cell_type": "code",
   "execution_count": 47,
   "metadata": {},
   "outputs": [],
   "source": [
    "data[\"mac_address\"]=data[\"mac_address\"].astype(object)"
   ]
  },
  {
   "cell_type": "code",
   "execution_count": 48,
   "metadata": {},
   "outputs": [],
   "source": [
    "click_rate_byT=data.groupby(\"mac_address\")[\"user_action_id\"].value_counts(normalize=True).rename(\"percentage\").mul(100).reset_index()"
   ]
  },
  {
   "cell_type": "code",
   "execution_count": 49,
   "metadata": {},
   "outputs": [
    {
     "data": {
      "image/png": "[encoded data removed]",
      "text/plain": [
       "<Figure size 648x360 with 1 Axes>"
      ]
     },
     "metadata": {
      "needs_background": "light"
     },
     "output_type": "display_data"
    }
   ],
   "source": [
    "plt.figure(figsize=(9,5))\n",
    "sns.barplot(x=\"mac_address\",y=\"percentage\", hue=\"user_action_id\",data=click_rate_byT)\n",
    "plt.title(\"Click_rate_by_mac_address\")\n",
    "plt.show()"
   ]
  },
  {
   "cell_type": "code",
   "execution_count": 50,
   "metadata": {},
   "outputs": [],
   "source": [
    "mode_screen_height=data[\"screen_height\"].mode()"
   ]
  },
  {
   "cell_type": "code",
   "execution_count": 51,
   "metadata": {},
   "outputs": [],
   "source": [
    " mode_screen_width=data[\"screen_width\"].mode()"
   ]
  },
  {
   "cell_type": "code",
   "execution_count": 52,
   "metadata": {},
   "outputs": [],
   "source": [
    "data.screen_height.replace([0], [mode_screen_height], inplace=True)"
   ]
  },
  {
   "cell_type": "code",
   "execution_count": 53,
   "metadata": {},
   "outputs": [],
   "source": [
    "data.screen_width.replace([0], [mode_screen_width], inplace=True)"
   ]
  },
  {
   "cell_type": "code",
   "execution_count": 54,
   "metadata": {},
   "outputs": [],
   "source": [
    "data[\"Screen_Area\"]=data[\"screen_height\"]*data[\"screen_width\"]"
   ]
  },
  {
   "cell_type": "code",
   "execution_count": 55,
   "metadata": {},
   "outputs": [
    {
     "data": {
      "text/html": [
       "<div>\n",
       "<style scoped>\n",
       "    .dataframe tbody tr th:only-of-type {\n",
       "        vertical-align: middle;\n",
       "    }\n",
       "\n",
       "    .dataframe tbody tr th {\n",
       "        vertical-align: top;\n",
       "    }\n",
       "\n",
       "    .dataframe thead th {\n",
       "        text-align: right;\n",
       "    }\n",
       "</style>\n",
       "<table border=\"1\" class=\"dataframe\">\n",
       "  <thead>\n",
       "    <tr style=\"text-align: right;\">\n",
       "      <th></th>\n",
       "      <th>ad_instance_id</th>\n",
       "      <th>segment_id_x</th>\n",
       "      <th>place_id</th>\n",
       "      <th>user_action_id</th>\n",
       "      <th>action_time</th>\n",
       "      <th>screen_height</th>\n",
       "      <th>screen_width</th>\n",
       "      <th>segment_id_y</th>\n",
       "      <th>User_ID</th>\n",
       "      <th>mac_address</th>\n",
       "      <th>Screen_Area</th>\n",
       "    </tr>\n",
       "  </thead>\n",
       "  <tbody>\n",
       "    <tr>\n",
       "      <th>0</th>\n",
       "      <td>2021</td>\n",
       "      <td>6</td>\n",
       "      <td>9</td>\n",
       "      <td>0</td>\n",
       "      <td>0</td>\n",
       "      <td>667</td>\n",
       "      <td>375</td>\n",
       "      <td>11</td>\n",
       "      <td>223481</td>\n",
       "      <td>1</td>\n",
       "      <td>250125</td>\n",
       "    </tr>\n",
       "    <tr>\n",
       "      <th>1</th>\n",
       "      <td>1108</td>\n",
       "      <td>6</td>\n",
       "      <td>47</td>\n",
       "      <td>0</td>\n",
       "      <td>1</td>\n",
       "      <td>667</td>\n",
       "      <td>375</td>\n",
       "      <td>4</td>\n",
       "      <td>795536</td>\n",
       "      <td>1</td>\n",
       "      <td>250125</td>\n",
       "    </tr>\n",
       "    <tr>\n",
       "      <th>2</th>\n",
       "      <td>2747</td>\n",
       "      <td>6</td>\n",
       "      <td>27</td>\n",
       "      <td>0</td>\n",
       "      <td>0</td>\n",
       "      <td>640</td>\n",
       "      <td>360</td>\n",
       "      <td>5</td>\n",
       "      <td>938974</td>\n",
       "      <td>0</td>\n",
       "      <td>230400</td>\n",
       "    </tr>\n",
       "    <tr>\n",
       "      <th>3</th>\n",
       "      <td>2237</td>\n",
       "      <td>6</td>\n",
       "      <td>77</td>\n",
       "      <td>0</td>\n",
       "      <td>0</td>\n",
       "      <td>640</td>\n",
       "      <td>360</td>\n",
       "      <td>11</td>\n",
       "      <td>111971</td>\n",
       "      <td>0</td>\n",
       "      <td>230400</td>\n",
       "    </tr>\n",
       "    <tr>\n",
       "      <th>4</th>\n",
       "      <td>2306</td>\n",
       "      <td>14</td>\n",
       "      <td>46</td>\n",
       "      <td>0</td>\n",
       "      <td>0</td>\n",
       "      <td>640</td>\n",
       "      <td>360</td>\n",
       "      <td>4</td>\n",
       "      <td>421991</td>\n",
       "      <td>0</td>\n",
       "      <td>230400</td>\n",
       "    </tr>\n",
       "  </tbody>\n",
       "</table>\n",
       "</div>"
      ],
      "text/plain": [
       "   ad_instance_id segment_id_x  place_id  user_action_id action_time  \\\n",
       "0            2021            6         9               0           0   \n",
       "1            1108            6        47               0           1   \n",
       "2            2747            6        27               0           0   \n",
       "3            2237            6        77               0           0   \n",
       "4            2306           14        46               0           0   \n",
       "\n",
       "   screen_height  screen_width  segment_id_y  User_ID mac_address  Screen_Area  \n",
       "0            667           375            11   223481           1       250125  \n",
       "1            667           375             4   795536           1       250125  \n",
       "2            640           360             5   938974           0       230400  \n",
       "3            640           360            11   111971           0       230400  \n",
       "4            640           360             4   421991           0       230400  "
      ]
     },
     "execution_count": 55,
     "metadata": {},
     "output_type": "execute_result"
    }
   ],
   "source": [
    "data.head()"
   ]
  },
  {
   "cell_type": "code",
   "execution_count": 56,
   "metadata": {},
   "outputs": [],
   "source": [
    "data=data.drop({\"screen_height\",\"screen_width\"}, axis=1)"
   ]
  },
  {
   "cell_type": "code",
   "execution_count": 59,
   "metadata": {},
   "outputs": [
    {
     "data": {
      "text/html": [
       "<div>\n",
       "<style scoped>\n",
       "    .dataframe tbody tr th:only-of-type {\n",
       "        vertical-align: middle;\n",
       "    }\n",
       "\n",
       "    .dataframe tbody tr th {\n",
       "        vertical-align: top;\n",
       "    }\n",
       "\n",
       "    .dataframe thead th {\n",
       "        text-align: right;\n",
       "    }\n",
       "</style>\n",
       "<table border=\"1\" class=\"dataframe\">\n",
       "  <thead>\n",
       "    <tr style=\"text-align: right;\">\n",
       "      <th></th>\n",
       "      <th>ad_instance_id</th>\n",
       "      <th>segment_id_x</th>\n",
       "      <th>place_id</th>\n",
       "      <th>user_action_id</th>\n",
       "      <th>action_time</th>\n",
       "      <th>segment_id_y</th>\n",
       "      <th>User_ID</th>\n",
       "      <th>mac_address</th>\n",
       "      <th>Screen_Area</th>\n",
       "    </tr>\n",
       "  </thead>\n",
       "  <tbody>\n",
       "    <tr>\n",
       "      <th>0</th>\n",
       "      <td>2021</td>\n",
       "      <td>6</td>\n",
       "      <td>9</td>\n",
       "      <td>0</td>\n",
       "      <td>0</td>\n",
       "      <td>11</td>\n",
       "      <td>223481</td>\n",
       "      <td>1</td>\n",
       "      <td>250125</td>\n",
       "    </tr>\n",
       "    <tr>\n",
       "      <th>1</th>\n",
       "      <td>1108</td>\n",
       "      <td>6</td>\n",
       "      <td>47</td>\n",
       "      <td>0</td>\n",
       "      <td>1</td>\n",
       "      <td>4</td>\n",
       "      <td>795536</td>\n",
       "      <td>1</td>\n",
       "      <td>250125</td>\n",
       "    </tr>\n",
       "    <tr>\n",
       "      <th>2</th>\n",
       "      <td>2747</td>\n",
       "      <td>6</td>\n",
       "      <td>27</td>\n",
       "      <td>0</td>\n",
       "      <td>0</td>\n",
       "      <td>5</td>\n",
       "      <td>938974</td>\n",
       "      <td>0</td>\n",
       "      <td>230400</td>\n",
       "    </tr>\n",
       "    <tr>\n",
       "      <th>3</th>\n",
       "      <td>2237</td>\n",
       "      <td>6</td>\n",
       "      <td>77</td>\n",
       "      <td>0</td>\n",
       "      <td>0</td>\n",
       "      <td>11</td>\n",
       "      <td>111971</td>\n",
       "      <td>0</td>\n",
       "      <td>230400</td>\n",
       "    </tr>\n",
       "    <tr>\n",
       "      <th>4</th>\n",
       "      <td>2306</td>\n",
       "      <td>14</td>\n",
       "      <td>46</td>\n",
       "      <td>0</td>\n",
       "      <td>0</td>\n",
       "      <td>4</td>\n",
       "      <td>421991</td>\n",
       "      <td>0</td>\n",
       "      <td>230400</td>\n",
       "    </tr>\n",
       "  </tbody>\n",
       "</table>\n",
       "</div>"
      ],
      "text/plain": [
       "   ad_instance_id segment_id_x  place_id  user_action_id action_time  \\\n",
       "0            2021            6         9               0           0   \n",
       "1            1108            6        47               0           1   \n",
       "2            2747            6        27               0           0   \n",
       "3            2237            6        77               0           0   \n",
       "4            2306           14        46               0           0   \n",
       "\n",
       "   segment_id_y  User_ID mac_address  Screen_Area  \n",
       "0            11   223481           1       250125  \n",
       "1             4   795536           1       250125  \n",
       "2             5   938974           0       230400  \n",
       "3            11   111971           0       230400  \n",
       "4             4   421991           0       230400  "
      ]
     },
     "execution_count": 59,
     "metadata": {},
     "output_type": "execute_result"
    }
   ],
   "source": [
    "data.head()"
   ]
  },
  {
   "cell_type": "code",
   "execution_count": 60,
   "metadata": {},
   "outputs": [
    {
     "data": {
      "image/png": "[encoded data removed]",
      "text/plain": [
       "<Figure size 648x360 with 1 Axes>"
      ]
     },
     "metadata": {
      "needs_background": "light"
     },
     "output_type": "display_data"
    }
   ],
   "source": [
    "plt.figure(figsize=(9,5))\n",
    "sns.boxplot(x=\"mac_address\", y=\"Screen_Area\", data=data, showmeans=True, hue=\"user_action_id\")\n",
    "plt.legend(title='User_Action', loc='upper right')\n",
    "plt.xlabel(\"mac_address\")\n",
    "plt.ylabel(\"Screen_Area\")\n",
    "plt.title(\"User action by mac address and screen area\",fontdict={\"fontsize\":16})\n",
    "plt.show()"
   ]
  },
  {
   "cell_type": "code",
   "execution_count": 62,
   "metadata": {},
   "outputs": [
    {
     "data": {
      "image/png": "[encoded data removed]",
      "text/plain": [
       "<Figure size 1440x1080 with 1 Axes>"
      ]
     },
     "metadata": {
      "needs_background": "light"
     },
     "output_type": "display_data"
    }
   ],
   "source": [
    "plt.figure(figsize=(20,15))\n",
    "sns.boxplot(x=\"segment_id_x\", y=\"Screen_Area\", data=data, showmeans=True, hue=\"user_action_id\")\n",
    "plt.legend(title='User_Action', loc='upper right')\n",
    "plt.xlabel(\"segment_id_x\")\n",
    "plt.ylabel(\"Screen_Area\")\n",
    "plt.title(\"User action by add segment and screen area\",fontdict={\"fontsize\":16})\n",
    "plt.show()"
   ]
  },
  {
   "cell_type": "code",
   "execution_count": null,
   "metadata": {},
   "outputs": [],
   "source": []
  }
 ],
 "metadata": {
  "kernelspec": {
   "display_name": "Python 3",
   "language": "python",
   "name": "python3"
  },
  "language_info": {
   "codemirror_mode": {
    "name": "ipython",
    "version": 3
   },
   "file_extension": ".py",
   "mimetype": "text/x-python",
   "name": "python",
   "nbconvert_exporter": "python",
   "pygments_lexer": "ipython3",
   "version": "3.7.3"
  }
 },
 "nbformat": 4,
 "nbformat_minor": 2
}
